{
 "cells": [
  {
   "cell_type": "code",
   "execution_count": 1,
   "id": "cfa8628e-19a5-4c17-9da2-d137c1813158",
   "metadata": {},
   "outputs": [],
   "source": [
    "import pandas as pd\n",
    "import matplotlib.pyplot as plt\n",
    "import seaborn as sns\n",
    "import numpy as np\n",
    "import mlflow"
   ]
  },
  {
   "cell_type": "markdown",
   "id": "58fb1d05-51fc-4a4f-8d5f-18781c0622d8",
   "metadata": {},
   "source": [
    "# Importing data"
   ]
  },
  {
   "cell_type": "code",
   "execution_count": 2,
   "id": "f8b6f999-6b70-4c57-bda7-f2af7d49981c",
   "metadata": {},
   "outputs": [],
   "source": [
    "mlflow.autolog()"
   ]
  },
  {
   "cell_type": "code",
   "execution_count": 3,
   "id": "f92121de-56f7-4c37-87b8-dd4fed40d921",
   "metadata": {},
   "outputs": [],
   "source": [
    "holidays = pd.read_csv(\"../data/raw/holidays.csv\")\n",
    "oil = pd.read_csv(\"../data/raw/oil.csv\")\n",
    "sample_sub = pd.read_csv(\"../data/raw/sample_sub.csv\")\n",
    "stores = pd.read_csv(\"../data/raw/stores.csv\")\n",
    "test = pd.read_csv(\"../data/raw/test.csv\")\n",
    "train = pd.read_csv(\"../data/raw/train.csv\")\n",
    "transactions = pd.read_csv(\"../data/raw/transactions.csv\")"
   ]
  },
  {
   "cell_type": "code",
   "execution_count": null,
   "id": "e1a14806-d302-4a4c-8637-88dc767d39e5",
   "metadata": {},
   "outputs": [],
   "source": []
  },
  {
   "cell_type": "code",
   "execution_count": null,
   "id": "d517e70c-6680-44a6-ab7a-b47fc018c0a8",
   "metadata": {},
   "outputs": [],
   "source": []
  }
 ],
 "metadata": {
  "kernelspec": {
   "display_name": "Python 3 (ipykernel)",
   "language": "python",
   "name": "python3"
  },
  "language_info": {
   "codemirror_mode": {
    "name": "ipython",
    "version": 3
   },
   "file_extension": ".py",
   "mimetype": "text/x-python",
   "name": "python",
   "nbconvert_exporter": "python",
   "pygments_lexer": "ipython3",
   "version": "3.9.0"
  }
 },
 "nbformat": 4,
 "nbformat_minor": 5
}
